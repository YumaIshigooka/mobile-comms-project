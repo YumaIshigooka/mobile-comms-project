import numpy as np
import matplotlib.pyplot as plt

# hex parameters
height = 1  # height of hex
radius = height / np.sqrt(3)  # radius of hex based on height

# Define hexagonal coordinates for two cells, placed vertically adjacent
hex_positions = [
    (0, 0),  # Central cell
    (0, height)  # Second hexagon vertically adjacent to the first
]

# Function to plot a hexagon
def plot_hexagon(ax, center_x, center_y, radius, color='black'):
    angles = np.linspace(0, 2 * np.pi, 7)
    x_hex = center_x + radius * np.cos(angles)
    y_hex = center_y + radius * np.sin(angles)
    ax.plot(x_hex, y_hex, color=color)
    ax.fill(x_hex, y_hex, color=color, alpha=0.1)

# Function to plot a cell with 3 sectors
def plot_cell_with_sectors(ax, center_x, center_y, radius):
    # Draw the cell's hexagonal boundary
    plot_hexagon(ax, center_x, center_y, radius)
    
    # Draw the 3 sectors within each cell (120° each)
    for i in range(3):
        angle = i * (2 * np.pi / 3)  # Starting angle for each sector
        x_sector = [center_x, center_x + radius * np.cos(angle)]
        y_sector = [center_y, center_y + radius * np.sin(angle)]
        ax.plot(x_sector, y_sector, color='gray', linestyle='--')

# Plot the entire layout
fig, ax = plt.subplots(figsize=(8, 8))
ax.set_aspect('equal')
ax.set_title("Hexagonal Cellular Layout with 2 Vertically Adjacent Cells and 3 Sectors per Cell")

# Plot each cell at the specified hexagonal coordinates
for (x, y) in hex_positions:
    plot_cell_with_sectors(ax, x, y, radius)

# Adjust plot limits and labels
plt.xlim(-1, 1)
plt.ylim(-1, 2)
plt.xlabel("X Coordinate")
plt.ylabel("Y Coordinate")
plt.grid(False)
plt.show()

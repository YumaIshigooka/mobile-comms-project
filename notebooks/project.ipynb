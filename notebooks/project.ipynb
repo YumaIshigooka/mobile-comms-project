{
 "cells": [
  {
   "attachments": {},
   "cell_type": "markdown",
   "metadata": {},
   "source": [
    "### Import libraries"
   ]
  },
  {
   "cell_type": "code",
   "execution_count": null,
   "metadata": {},
   "outputs": [],
   "source": [
    "import numpy as np\n",
    "from scipy import special as sp\n",
    "import matplotlib.pyplot as plt\n",
    "\n",
    "def Lp(d: float, l: float = 0.01, G_t: float = 1, G_r: float = 1):\n",
    "    \"\"\"\n",
    "    Compute the path loss (Lp) given the distance, wavelength, transmitter gain, and receiver gain.\n",
    "    Parameters:\n",
    "    - d (float): The distance between the transmitter and receiver (meters).\n",
    "    - l (float): The wavelength (meters), default is 0.01.\n",
    "    - G_t (float): The transmitter gain, default is 1.\n",
    "    - G_r (float): The receiver gain, default is 1.\n",
    "\n",
    "    Returns:\n",
    "    - float: The calculated path loss.\n",
    "    \"\"\"\n",
    "    return (G_t * G_r * (l) ** 2) / ((4 * np.pi) ** 2)\n",
    "\n",
    "def Lp(d_ref: float, d: float, Lp_ref: float, nu: float = 2):\n",
    "    \"\"\"\n",
    "    Compute the path loss (Lp) given a relative distance, and the loss at that relative distance\n",
    "    Parameters:\n",
    "    - d_ref (float): The distance of reference (meters).\n",
    "    - d (float): The distance between the transmitter and receiver (meters).\n",
    "    - Lp_ref (float): The path loss at the reference distance\n",
    "    - nu (float): The pathloss exponent.\n",
    "\n",
    "    Returns:\n",
    "    - float: The calculated path loss.\n",
    "    \"\"\"\n",
    "    return Lp_ref * ((d_ref / d) ** nu)\n",
    "\n",
    "\n",
    "def Q1(Pavg, Pmin, std):\n",
    "    return np.ln(Pavg / Pmin) / (np.sqrt(2) * std)\n",
    "\n",
    "def Q2(std, nu):\n",
    "    return np.sqrt(2) * std / nu\n",
    "\n",
    "def prob_cell_no_coverage(Q1, Q2):\n",
    "    return 0.5 * sp.erfc(Q1) - 0.5 * np.exp(2 * Q1 * Q2 + Q2 ** 2) * sp.erfc(Q1 + Q2) "
   ]
  },
  {
   "attachments": {},
   "cell_type": "markdown",
   "metadata": {},
   "source": [
    "$$Q_1 = \\frac{ln(P_{avg}(R) / P_{min})}{\\sqrt{2}\\sigma}, Q_2 = \\frac{\\sqrt{2}\\sigma}{\\nu}$$\n",
    "$$P_{cellnocov} = \\frac{1}{2} \\cdot erfc(Q_1) - \\frac{1}{2} \\cdot e^{(2Q_1Q_2 + Q_{2}^2)} \\cdot erfc(Q_1 + Q_2)$$"
   ]
  },
  {
   "attachments": {},
   "cell_type": "markdown",
   "metadata": {},
   "source": [
    "### Questions"
   ]
  },
  {
   "attachments": {},
   "cell_type": "markdown",
   "metadata": {},
   "source": [
    "##### 1. Let the power control be inactive. Assuming universal bandwidth reuse in all the sectors and cells (reuse factor 1), generate the CDF of SIR (in dB). Repeat assuming universal bandwidth reuse across cells, but different bandwidth in each sector (reuse factor 3). Repeat assuming bandwidth reuse factor 3 across cells and also 3 across sectors (total reuse factor 9). Plot the three CDFs together. If we want at least -5 dB of SIR per user, does any of the reuse factors achieve it with 97% probability?\n",
    "\n",
    "### Reuse factor: $N_c$\n",
    "\n",
    "$$ N_c = u^2 + v^2 + uv $$\n",
    "$(u, v)$ --> Coordinates in the hexagonal system. (integer)"
   ]
  },
  {
   "cell_type": "code",
   "execution_count": 2,
   "metadata": {},
   "outputs": [
    {
     "name": "stdout",
     "output_type": "stream",
     "text": [
      "R = 1.1547, D = 2.0000\n"
     ]
    }
   ],
   "source": [
    "# Calcular R según D\n",
    "D = 2                   # Distancia entre nucleos\n",
    "R = D / np.sqrt(3)      # Radius \n",
    "print(f\"R = {R:.4f}, D = {D:.4f}\")"
   ]
  },
  {
   "cell_type": "code",
   "execution_count": 3,
   "metadata": {},
   "outputs": [
    {
     "name": "stdout",
     "output_type": "stream",
     "text": [
      "R = 3.4641, D = 2.0000\n"
     ]
    }
   ],
   "source": [
    "# Calcular D según R\n",
    "R = 2                   # Radius\n",
    "R = D * np.sqrt(3)      # Distancia entre nucleos \n",
    "print(f\"R = {R:.4f}, D = {D:.4f}\")"
   ]
  },
  {
   "cell_type": "code",
   "execution_count": 9,
   "metadata": {},
   "outputs": [
    {
     "name": "stdout",
     "output_type": "stream",
     "text": [
      "R = 1.1547, D = 2\n"
     ]
    }
   ],
   "source": [
    "# Reuse factor 1 (all cells and sector have same Bw)\n",
    "\n",
    "\n",
    "# Reuse factor 3 (all cells have same Bw but different among sectors )\n",
    "\n",
    "# Reuse factor 9  (both cells and sector have different Bw)"
   ]
  },
  {
   "attachments": {},
   "cell_type": "markdown",
   "metadata": {},
   "source": [
    "2. Activate the fractional power control. With reuse factor 3, what is the power control exponent that maximizes the percentage of users with SIR ³ -5 dB? Plot the CDF of SIR (in dB) with such power control exponent"
   ]
  },
  {
   "cell_type": "code",
   "execution_count": null,
   "metadata": {},
   "outputs": [],
   "source": [
    "# "
   ]
  },
  {
   "attachments": {},
   "cell_type": "markdown",
   "metadata": {},
   "source": [
    "3. Re-address question 2 for pathloss exponents u = 3 and u = 4.5. Plot the SIR (in dB) CDFs for u = 3, 3.8 and 4.5 together. Briefly discuss whether a small or a large exponent is preferable in interference-limited conditions. How can the system designer affect the exponent?"
   ]
  },
  {
   "cell_type": "code",
   "execution_count": null,
   "metadata": {},
   "outputs": [],
   "source": [
    "# Mas cositas"
   ]
  },
  {
   "attachments": {},
   "cell_type": "markdown",
   "metadata": {},
   "source": [
    "4. Set the pathloss exponent back at u = 3.8, disable the power control, and let the bandwidth be 100 MHz. Suppose that a family of constellations and codes with an SNR gap to capacity of 4 dB is available, and that the error probability is negligible. Plot the CDF of the throughput achievable by users for the reuse factors 1, 3, and 9. Compute the average bit rate as well as the bit rate attained by 97% of users in each case. Remember to take into account that the available bandwidth at each sector depends on the reuse factor!"
   ]
  }
 ],
 "metadata": {
  "kernelspec": {
   "display_name": ".venv",
   "language": "python",
   "name": "python3"
  },
  "language_info": {
   "codemirror_mode": {
    "name": "ipython",
    "version": 3
   },
   "file_extension": ".py",
   "mimetype": "text/x-python",
   "name": "python",
   "nbconvert_exporter": "python",
   "pygments_lexer": "ipython3",
   "version": "3.12.7"
  },
  "orig_nbformat": 4
 },
 "nbformat": 4,
 "nbformat_minor": 2
}
